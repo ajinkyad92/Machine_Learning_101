{
 "cells": [
  {
   "cell_type": "markdown",
   "id": "442cb32d",
   "metadata": {},
   "source": [
    "# Python Basics"
   ]
  },
  {
   "cell_type": "markdown",
   "id": "4b4bfeb5",
   "metadata": {},
   "source": [
    "## Types of Data Types\n",
    "\n",
    "1. Python Numbers\n",
    "2. Python Boolean\n",
    "3. Python Strings\n",
    "4. Python List\n",
    "5. Python Tuple\n",
    "6. Python Set\n",
    "7. Python Dictionary"
   ]
  },
  {
   "cell_type": "markdown",
   "id": "25668c3b",
   "metadata": {},
   "source": [
    "### Python Numbers"
   ]
  },
  {
   "cell_type": "markdown",
   "id": "9be83d84",
   "metadata": {},
   "source": [
    "- Integers"
   ]
  },
  {
   "cell_type": "code",
   "execution_count": 1,
   "id": "9cfaf527",
   "metadata": {},
   "outputs": [
    {
     "name": "stdout",
     "output_type": "stream",
     "text": [
      "123\n"
     ]
    }
   ],
   "source": [
    "print(123)"
   ]
  },
  {
   "cell_type": "code",
   "execution_count": 2,
   "id": "a34e0eb9",
   "metadata": {},
   "outputs": [
    {
     "data": {
      "text/plain": [
       "int"
      ]
     },
     "execution_count": 2,
     "metadata": {},
     "output_type": "execute_result"
    }
   ],
   "source": [
    "type(123)"
   ]
  },
  {
   "cell_type": "markdown",
   "id": "6a70ca87",
   "metadata": {},
   "source": [
    "- Floating Point"
   ]
  },
  {
   "cell_type": "code",
   "execution_count": 3,
   "id": "d1429d92",
   "metadata": {},
   "outputs": [
    {
     "name": "stdout",
     "output_type": "stream",
     "text": [
      "1.45\n"
     ]
    }
   ],
   "source": [
    "print(1.45)"
   ]
  },
  {
   "cell_type": "code",
   "execution_count": 4,
   "id": "3e6ef485",
   "metadata": {},
   "outputs": [
    {
     "data": {
      "text/plain": [
       "float"
      ]
     },
     "execution_count": 4,
     "metadata": {},
     "output_type": "execute_result"
    }
   ],
   "source": [
    "type(1.45)"
   ]
  },
  {
   "cell_type": "markdown",
   "id": "de2a1386",
   "metadata": {},
   "source": [
    "- Complex Numbers"
   ]
  },
  {
   "cell_type": "code",
   "execution_count": 5,
   "id": "8ed812e9",
   "metadata": {},
   "outputs": [
    {
     "name": "stdout",
     "output_type": "stream",
     "text": [
      "(5+4j)\n"
     ]
    }
   ],
   "source": [
    "print(5+4j)"
   ]
  },
  {
   "cell_type": "code",
   "execution_count": 6,
   "id": "ef874e2d",
   "metadata": {},
   "outputs": [
    {
     "data": {
      "text/plain": [
       "complex"
      ]
     },
     "execution_count": 6,
     "metadata": {},
     "output_type": "execute_result"
    }
   ],
   "source": [
    "type(5+4j)"
   ]
  },
  {
   "cell_type": "markdown",
   "id": "cf29f54e",
   "metadata": {},
   "source": [
    "#### Built-in Maths Operations"
   ]
  },
  {
   "cell_type": "markdown",
   "id": "f8de1220",
   "metadata": {},
   "source": [
    "1. Addition"
   ]
  },
  {
   "cell_type": "code",
   "execution_count": 7,
   "id": "1b7744ec",
   "metadata": {},
   "outputs": [
    {
     "data": {
      "text/plain": [
       "10"
      ]
     },
     "execution_count": 7,
     "metadata": {},
     "output_type": "execute_result"
    }
   ],
   "source": [
    "5+5"
   ]
  },
  {
   "cell_type": "code",
   "execution_count": 8,
   "id": "f808ccaf",
   "metadata": {},
   "outputs": [
    {
     "data": {
      "text/plain": [
       "10.0"
      ]
     },
     "execution_count": 8,
     "metadata": {},
     "output_type": "execute_result"
    }
   ],
   "source": [
    "5.0+5.0"
   ]
  },
  {
   "cell_type": "code",
   "execution_count": 9,
   "id": "0898b7c3",
   "metadata": {},
   "outputs": [
    {
     "data": {
      "text/plain": [
       "(8+8j)"
      ]
     },
     "execution_count": 9,
     "metadata": {},
     "output_type": "execute_result"
    }
   ],
   "source": [
    "(4+5j) + (4+3j)"
   ]
  },
  {
   "cell_type": "markdown",
   "id": "4099cee2",
   "metadata": {},
   "source": [
    "2. Subtraction"
   ]
  },
  {
   "cell_type": "code",
   "execution_count": 10,
   "id": "4db1b5b3",
   "metadata": {},
   "outputs": [
    {
     "data": {
      "text/plain": [
       "3"
      ]
     },
     "execution_count": 10,
     "metadata": {},
     "output_type": "execute_result"
    }
   ],
   "source": [
    "10-7"
   ]
  },
  {
   "cell_type": "code",
   "execution_count": 11,
   "id": "01b67e31",
   "metadata": {},
   "outputs": [
    {
     "data": {
      "text/plain": [
       "10.700000000000003"
      ]
     },
     "execution_count": 11,
     "metadata": {},
     "output_type": "execute_result"
    }
   ],
   "source": [
    "99.4-88.7"
   ]
  },
  {
   "cell_type": "code",
   "execution_count": 12,
   "id": "1db7bacd",
   "metadata": {},
   "outputs": [
    {
     "data": {
      "text/plain": [
       "(1-9j)"
      ]
     },
     "execution_count": 12,
     "metadata": {},
     "output_type": "execute_result"
    }
   ],
   "source": [
    "(5-3j) - (4+6j)"
   ]
  },
  {
   "cell_type": "markdown",
   "id": "89918b13",
   "metadata": {},
   "source": [
    "3. Multiplication"
   ]
  },
  {
   "cell_type": "code",
   "execution_count": 13,
   "id": "3a56ae6f",
   "metadata": {},
   "outputs": [
    {
     "data": {
      "text/plain": [
       "32"
      ]
     },
     "execution_count": 13,
     "metadata": {},
     "output_type": "execute_result"
    }
   ],
   "source": [
    "8*4"
   ]
  },
  {
   "cell_type": "code",
   "execution_count": 14,
   "id": "c8f02cc0",
   "metadata": {},
   "outputs": [
    {
     "data": {
      "text/plain": [
       "33.599999999999994"
      ]
     },
     "execution_count": 14,
     "metadata": {},
     "output_type": "execute_result"
    }
   ],
   "source": [
    "6.0*5.6"
   ]
  },
  {
   "cell_type": "code",
   "execution_count": 15,
   "id": "be0f9669",
   "metadata": {},
   "outputs": [
    {
     "data": {
      "text/plain": [
       "(-24-42j)"
      ]
     },
     "execution_count": 15,
     "metadata": {},
     "output_type": "execute_result"
    }
   ],
   "source": [
    "(2-4j) * (6-9j)"
   ]
  },
  {
   "cell_type": "markdown",
   "id": "42144205",
   "metadata": {},
   "source": [
    "4. Division"
   ]
  },
  {
   "cell_type": "code",
   "execution_count": 16,
   "id": "5c93523a",
   "metadata": {},
   "outputs": [
    {
     "data": {
      "text/plain": [
       "6.0"
      ]
     },
     "execution_count": 16,
     "metadata": {},
     "output_type": "execute_result"
    }
   ],
   "source": [
    "24/4"
   ]
  },
  {
   "cell_type": "code",
   "execution_count": 17,
   "id": "e6c86eac",
   "metadata": {},
   "outputs": [
    {
     "data": {
      "text/plain": [
       "5.846153846153847"
      ]
     },
     "execution_count": 17,
     "metadata": {},
     "output_type": "execute_result"
    }
   ],
   "source": [
    "45.6/7.8"
   ]
  },
  {
   "cell_type": "code",
   "execution_count": 18,
   "id": "1b63ffff",
   "metadata": {},
   "outputs": [
    {
     "data": {
      "text/plain": [
       "(1.1153846153846154+0.07692307692307686j)"
      ]
     },
     "execution_count": 18,
     "metadata": {},
     "output_type": "execute_result"
    }
   ],
   "source": [
    "(7-4j) / (6-4j)"
   ]
  },
  {
   "cell_type": "markdown",
   "id": "9d456f81",
   "metadata": {},
   "source": [
    "5. Modulus"
   ]
  },
  {
   "cell_type": "code",
   "execution_count": 19,
   "id": "a7933983",
   "metadata": {},
   "outputs": [
    {
     "data": {
      "text/plain": [
       "0"
      ]
     },
     "execution_count": 19,
     "metadata": {},
     "output_type": "execute_result"
    }
   ],
   "source": [
    "64%4"
   ]
  },
  {
   "cell_type": "code",
   "execution_count": 20,
   "id": "7735e6b5",
   "metadata": {},
   "outputs": [
    {
     "data": {
      "text/plain": [
       "1"
      ]
     },
     "execution_count": 20,
     "metadata": {},
     "output_type": "execute_result"
    }
   ],
   "source": [
    "65%4"
   ]
  },
  {
   "cell_type": "code",
   "execution_count": 21,
   "id": "a865fb1b",
   "metadata": {},
   "outputs": [
    {
     "data": {
      "text/plain": [
       "1.0"
      ]
     },
     "execution_count": 21,
     "metadata": {},
     "output_type": "execute_result"
    }
   ],
   "source": [
    "65.0%4"
   ]
  },
  {
   "cell_type": "raw",
   "id": "229bb000",
   "metadata": {},
   "source": [
    "# TypeError: can't mod complex numbers.\n",
    "\n",
    "(1-2j) % (3-4j)"
   ]
  },
  {
   "cell_type": "markdown",
   "id": "f8524d9c",
   "metadata": {},
   "source": [
    "6. Power"
   ]
  },
  {
   "cell_type": "code",
   "execution_count": 22,
   "id": "b74f44a4",
   "metadata": {},
   "outputs": [
    {
     "data": {
      "text/plain": [
       "4096"
      ]
     },
     "execution_count": 22,
     "metadata": {},
     "output_type": "execute_result"
    }
   ],
   "source": [
    "pow(64,2)"
   ]
  },
  {
   "cell_type": "code",
   "execution_count": 23,
   "id": "b4c82ffa",
   "metadata": {},
   "outputs": [
    {
     "data": {
      "text/plain": [
       "4096"
      ]
     },
     "execution_count": 23,
     "metadata": {},
     "output_type": "execute_result"
    }
   ],
   "source": [
    "64 ** 2"
   ]
  },
  {
   "cell_type": "code",
   "execution_count": 24,
   "id": "930210a4",
   "metadata": {},
   "outputs": [
    {
     "data": {
      "text/plain": [
       "4225.0"
      ]
     },
     "execution_count": 24,
     "metadata": {},
     "output_type": "execute_result"
    }
   ],
   "source": [
    "65.0 ** 2"
   ]
  },
  {
   "cell_type": "code",
   "execution_count": 25,
   "id": "86315e42",
   "metadata": {},
   "outputs": [
    {
     "data": {
      "text/plain": [
       "(0.12900959407446697-0.03392409290517014j)"
      ]
     },
     "execution_count": 25,
     "metadata": {},
     "output_type": "execute_result"
    }
   ],
   "source": [
    "(1-2j) ** (3-4j)"
   ]
  },
  {
   "cell_type": "markdown",
   "id": "b1c4faaa",
   "metadata": {},
   "source": [
    "7. Floor Division"
   ]
  },
  {
   "cell_type": "code",
   "execution_count": 26,
   "id": "fb622d0d",
   "metadata": {},
   "outputs": [
    {
     "data": {
      "text/plain": [
       "32"
      ]
     },
     "execution_count": 26,
     "metadata": {},
     "output_type": "execute_result"
    }
   ],
   "source": [
    "64 // 2"
   ]
  },
  {
   "cell_type": "code",
   "execution_count": 27,
   "id": "3bc6cadc",
   "metadata": {},
   "outputs": [
    {
     "data": {
      "text/plain": [
       "32.0"
      ]
     },
     "execution_count": 27,
     "metadata": {},
     "output_type": "execute_result"
    }
   ],
   "source": [
    "65.0 // 2"
   ]
  },
  {
   "cell_type": "raw",
   "id": "63bd26cc",
   "metadata": {},
   "source": [
    "# TypeError: can't take floor of complex number.\n",
    "\n",
    "(1-2j) // (3-4j)"
   ]
  },
  {
   "cell_type": "markdown",
   "id": "7b49536f",
   "metadata": {},
   "source": [
    "8. absolute"
   ]
  },
  {
   "cell_type": "code",
   "execution_count": 28,
   "id": "00d57219",
   "metadata": {},
   "outputs": [
    {
     "name": "stdout",
     "output_type": "stream",
     "text": [
      "123\n",
      "56.456\n",
      "2.23606797749979\n",
      "56.89\n"
     ]
    }
   ],
   "source": [
    "print(abs(-123))\n",
    "print(abs(56.456))\n",
    "print(abs((1-2j)))\n",
    "print(round(abs((56.89046467578)),2))"
   ]
  },
  {
   "cell_type": "markdown",
   "id": "3a06e9b9",
   "metadata": {},
   "source": [
    "#### Importing Libraries for various math function available in the library"
   ]
  },
  {
   "cell_type": "code",
   "execution_count": 29,
   "id": "9c50aebb",
   "metadata": {},
   "outputs": [],
   "source": [
    "import math"
   ]
  },
  {
   "cell_type": "code",
   "execution_count": 30,
   "id": "e9ebea1f",
   "metadata": {},
   "outputs": [
    {
     "data": {
      "text/plain": [
       "-0.26237485370392877"
      ]
     },
     "execution_count": 30,
     "metadata": {},
     "output_type": "execute_result"
    }
   ],
   "source": [
    "math.sin(50)"
   ]
  },
  {
   "cell_type": "code",
   "execution_count": 31,
   "id": "0988e854",
   "metadata": {},
   "outputs": [
    {
     "name": "stdout",
     "output_type": "stream",
     "text": [
      "56\n",
      "57\n"
     ]
    }
   ],
   "source": [
    "print((math.floor((56.89046467578))))\n",
    "print((math.ceil((56.89046467578))))"
   ]
  },
  {
   "cell_type": "markdown",
   "id": "941d1709",
   "metadata": {},
   "source": [
    "### Python Boolean "
   ]
  },
  {
   "cell_type": "code",
   "execution_count": 32,
   "id": "9695c621",
   "metadata": {},
   "outputs": [
    {
     "data": {
      "text/plain": [
       "True"
      ]
     },
     "execution_count": 32,
     "metadata": {},
     "output_type": "execute_result"
    }
   ],
   "source": [
    "True"
   ]
  },
  {
   "cell_type": "code",
   "execution_count": 33,
   "id": "3c42cdbc",
   "metadata": {},
   "outputs": [
    {
     "data": {
      "text/plain": [
       "False"
      ]
     },
     "execution_count": 33,
     "metadata": {},
     "output_type": "execute_result"
    }
   ],
   "source": [
    "False"
   ]
  },
  {
   "cell_type": "code",
   "execution_count": 34,
   "id": "77b877c4",
   "metadata": {},
   "outputs": [
    {
     "data": {
      "text/plain": [
       "bool"
      ]
     },
     "execution_count": 34,
     "metadata": {},
     "output_type": "execute_result"
    }
   ],
   "source": [
    "type(True)"
   ]
  },
  {
   "cell_type": "code",
   "execution_count": 35,
   "id": "e1bcb92d",
   "metadata": {},
   "outputs": [],
   "source": [
    "is_variable = True"
   ]
  },
  {
   "cell_type": "markdown",
   "id": "b84fb314",
   "metadata": {},
   "source": [
    "### Python Strings"
   ]
  },
  {
   "cell_type": "code",
   "execution_count": 36,
   "id": "f44f1c8a",
   "metadata": {},
   "outputs": [],
   "source": [
    "str_variable = \"Hello World!\""
   ]
  },
  {
   "cell_type": "code",
   "execution_count": 37,
   "id": "08bbff45",
   "metadata": {},
   "outputs": [
    {
     "data": {
      "text/plain": [
       "'Hello world!'"
      ]
     },
     "execution_count": 37,
     "metadata": {},
     "output_type": "execute_result"
    }
   ],
   "source": [
    "str_variable.capitalize()"
   ]
  },
  {
   "cell_type": "code",
   "execution_count": 38,
   "id": "83445154",
   "metadata": {},
   "outputs": [
    {
     "data": {
      "text/plain": [
       "'hello world!'"
      ]
     },
     "execution_count": 38,
     "metadata": {},
     "output_type": "execute_result"
    }
   ],
   "source": [
    "str_variable.casefold()"
   ]
  },
  {
   "cell_type": "code",
   "execution_count": 39,
   "id": "0b4d8d02",
   "metadata": {},
   "outputs": [
    {
     "data": {
      "text/plain": [
       "'                                            Hello World!                                            '"
      ]
     },
     "execution_count": 39,
     "metadata": {},
     "output_type": "execute_result"
    }
   ],
   "source": [
    "str_variable.center(100)"
   ]
  },
  {
   "cell_type": "code",
   "execution_count": 40,
   "id": "59cf5e01",
   "metadata": {},
   "outputs": [
    {
     "data": {
      "text/plain": [
       "2"
      ]
     },
     "execution_count": 40,
     "metadata": {},
     "output_type": "execute_result"
    }
   ],
   "source": [
    "str_variable.count('o')"
   ]
  },
  {
   "cell_type": "code",
   "execution_count": 41,
   "id": "a61c7745",
   "metadata": {},
   "outputs": [
    {
     "data": {
      "text/plain": [
       "0"
      ]
     },
     "execution_count": 41,
     "metadata": {},
     "output_type": "execute_result"
    }
   ],
   "source": [
    "str_variable.count('O')"
   ]
  },
  {
   "cell_type": "code",
   "execution_count": 42,
   "id": "e56119c2",
   "metadata": {},
   "outputs": [
    {
     "data": {
      "text/plain": [
       "b'Hello World!'"
      ]
     },
     "execution_count": 42,
     "metadata": {},
     "output_type": "execute_result"
    }
   ],
   "source": [
    "str_variable.encode('utf-8')"
   ]
  },
  {
   "cell_type": "code",
   "execution_count": 43,
   "id": "5a132015",
   "metadata": {},
   "outputs": [
    {
     "data": {
      "text/plain": [
       "True"
      ]
     },
     "execution_count": 43,
     "metadata": {},
     "output_type": "execute_result"
    }
   ],
   "source": [
    "str_variable.endswith('!')"
   ]
  },
  {
   "cell_type": "code",
   "execution_count": 44,
   "id": "86c45597",
   "metadata": {},
   "outputs": [
    {
     "data": {
      "text/plain": [
       "False"
      ]
     },
     "execution_count": 44,
     "metadata": {},
     "output_type": "execute_result"
    }
   ],
   "source": [
    "str_variable.endswith('d')"
   ]
  },
  {
   "cell_type": "code",
   "execution_count": 45,
   "id": "cc5d1e7c",
   "metadata": {},
   "outputs": [
    {
     "data": {
      "text/plain": [
       "False"
      ]
     },
     "execution_count": 45,
     "metadata": {},
     "output_type": "execute_result"
    }
   ],
   "source": [
    "str_variable.startswith('h')"
   ]
  },
  {
   "cell_type": "code",
   "execution_count": 46,
   "id": "7eeca3e8",
   "metadata": {},
   "outputs": [
    {
     "data": {
      "text/plain": [
       "True"
      ]
     },
     "execution_count": 46,
     "metadata": {},
     "output_type": "execute_result"
    }
   ],
   "source": [
    "str_variable.startswith('H')"
   ]
  },
  {
   "cell_type": "code",
   "execution_count": 47,
   "id": "ee2de435",
   "metadata": {},
   "outputs": [
    {
     "data": {
      "text/plain": [
       "'H'"
      ]
     },
     "execution_count": 47,
     "metadata": {},
     "output_type": "execute_result"
    }
   ],
   "source": [
    "str_variable[0]"
   ]
  },
  {
   "cell_type": "code",
   "execution_count": 48,
   "id": "ed88ef07",
   "metadata": {},
   "outputs": [
    {
     "data": {
      "text/plain": [
       "'Hello '"
      ]
     },
     "execution_count": 48,
     "metadata": {},
     "output_type": "execute_result"
    }
   ],
   "source": [
    "str_variable[0:6]"
   ]
  },
  {
   "cell_type": "code",
   "execution_count": 49,
   "id": "74469eb6",
   "metadata": {},
   "outputs": [
    {
     "data": {
      "text/plain": [
       "' Wo'"
      ]
     },
     "execution_count": 49,
     "metadata": {},
     "output_type": "execute_result"
    }
   ],
   "source": [
    "str_variable[5:8]"
   ]
  },
  {
   "cell_type": "code",
   "execution_count": 50,
   "id": "55b4e986",
   "metadata": {},
   "outputs": [
    {
     "data": {
      "text/plain": [
       "'!dlroW olleH'"
      ]
     },
     "execution_count": 50,
     "metadata": {},
     "output_type": "execute_result"
    }
   ],
   "source": [
    "str_variable[::-1]"
   ]
  },
  {
   "cell_type": "code",
   "execution_count": 51,
   "id": "f86b4cc5",
   "metadata": {},
   "outputs": [
    {
     "data": {
      "text/plain": [
       "'i love you '"
      ]
     },
     "execution_count": 51,
     "metadata": {},
     "output_type": "execute_result"
    }
   ],
   "source": [
    "str_1 = 'i\\tlove\\tyou\\t'\n",
    "str_1.expandtabs(1)"
   ]
  },
  {
   "cell_type": "code",
   "execution_count": 52,
   "id": "7fd532d5",
   "metadata": {},
   "outputs": [
    {
     "data": {
      "text/plain": [
       "2"
      ]
     },
     "execution_count": 52,
     "metadata": {},
     "output_type": "execute_result"
    }
   ],
   "source": [
    "str_variable.find('l')"
   ]
  },
  {
   "cell_type": "code",
   "execution_count": 53,
   "id": "2d5b167a",
   "metadata": {},
   "outputs": [
    {
     "data": {
      "text/plain": [
       "1"
      ]
     },
     "execution_count": 53,
     "metadata": {},
     "output_type": "execute_result"
    }
   ],
   "source": [
    "str_variable.index('e')"
   ]
  },
  {
   "cell_type": "code",
   "execution_count": 54,
   "id": "5028c548",
   "metadata": {},
   "outputs": [
    {
     "data": {
      "text/plain": [
       "'hELLO wORLD!'"
      ]
     },
     "execution_count": 54,
     "metadata": {},
     "output_type": "execute_result"
    }
   ],
   "source": [
    "str_variable.swapcase()"
   ]
  },
  {
   "cell_type": "markdown",
   "id": "670e2d2c",
   "metadata": {},
   "source": [
    "### Python List"
   ]
  },
  {
   "cell_type": "code",
   "execution_count": 55,
   "id": "c08bac09",
   "metadata": {},
   "outputs": [],
   "source": [
    "list1 = []"
   ]
  },
  {
   "cell_type": "code",
   "execution_count": 56,
   "id": "e1973dcc",
   "metadata": {},
   "outputs": [
    {
     "data": {
      "text/plain": [
       "list"
      ]
     },
     "execution_count": 56,
     "metadata": {},
     "output_type": "execute_result"
    }
   ],
   "source": [
    "type(list1)"
   ]
  },
  {
   "cell_type": "code",
   "execution_count": 57,
   "id": "d991b5c5",
   "metadata": {},
   "outputs": [],
   "source": [
    "list1 = [1,2,3,4,5,6,7]"
   ]
  },
  {
   "cell_type": "code",
   "execution_count": 58,
   "id": "3b81c6cb",
   "metadata": {},
   "outputs": [
    {
     "name": "stdout",
     "output_type": "stream",
     "text": [
      "[1, 2, 3, 4, 5, 6, 7, 8]\n"
     ]
    }
   ],
   "source": [
    "list1.append(8)\n",
    "print(list1)"
   ]
  },
  {
   "cell_type": "code",
   "execution_count": 59,
   "id": "8e14729d",
   "metadata": {},
   "outputs": [
    {
     "data": {
      "text/plain": [
       "[]"
      ]
     },
     "execution_count": 59,
     "metadata": {},
     "output_type": "execute_result"
    }
   ],
   "source": [
    "list1.clear()\n",
    "list1"
   ]
  },
  {
   "cell_type": "code",
   "execution_count": 60,
   "id": "e3bf993b",
   "metadata": {},
   "outputs": [],
   "source": [
    "list1 = [1,2,3,4,5,6,7]"
   ]
  },
  {
   "cell_type": "code",
   "execution_count": 61,
   "id": "8abde705",
   "metadata": {},
   "outputs": [
    {
     "data": {
      "text/plain": [
       "[1, 2, 3, 4, 5, 6, 7]"
      ]
     },
     "execution_count": 61,
     "metadata": {},
     "output_type": "execute_result"
    }
   ],
   "source": [
    "list2 = list1.copy()\n",
    "list2"
   ]
  },
  {
   "cell_type": "code",
   "execution_count": 62,
   "id": "b2395673",
   "metadata": {},
   "outputs": [
    {
     "data": {
      "text/plain": [
       "[1, 2, 3, 4, 5, 6, 7]"
      ]
     },
     "execution_count": 62,
     "metadata": {},
     "output_type": "execute_result"
    }
   ],
   "source": [
    "list2.append(8)\n",
    "list2.append(8)\n",
    "list2.append(8)\n",
    "list1"
   ]
  },
  {
   "cell_type": "code",
   "execution_count": 63,
   "id": "63c9b3e0",
   "metadata": {},
   "outputs": [
    {
     "data": {
      "text/plain": [
       "[1, 2, 3, 4, 5, 6, 7, 8, 8, 8]"
      ]
     },
     "execution_count": 63,
     "metadata": {},
     "output_type": "execute_result"
    }
   ],
   "source": [
    "list2"
   ]
  },
  {
   "cell_type": "code",
   "execution_count": 64,
   "id": "3c7f5df1",
   "metadata": {},
   "outputs": [
    {
     "data": {
      "text/plain": [
       "3"
      ]
     },
     "execution_count": 64,
     "metadata": {},
     "output_type": "execute_result"
    }
   ],
   "source": [
    "list2.count(8)"
   ]
  },
  {
   "cell_type": "code",
   "execution_count": 65,
   "id": "8a8e5f60",
   "metadata": {},
   "outputs": [
    {
     "data": {
      "text/plain": [
       "[1, 2, 3, 4, 5, 6, 7, 3, 4, 5]"
      ]
     },
     "execution_count": 65,
     "metadata": {},
     "output_type": "execute_result"
    }
   ],
   "source": [
    "list1.extend([3,4,5])\n",
    "list1"
   ]
  },
  {
   "cell_type": "code",
   "execution_count": 66,
   "id": "d1f3a284",
   "metadata": {},
   "outputs": [],
   "source": [
    "list1 = [1,2,3,4,5,6,7]"
   ]
  },
  {
   "cell_type": "code",
   "execution_count": 67,
   "id": "09a39d06",
   "metadata": {},
   "outputs": [
    {
     "data": {
      "text/plain": [
       "3"
      ]
     },
     "execution_count": 67,
     "metadata": {},
     "output_type": "execute_result"
    }
   ],
   "source": [
    "list1.index(4)"
   ]
  },
  {
   "cell_type": "code",
   "execution_count": 68,
   "id": "70124676",
   "metadata": {},
   "outputs": [
    {
     "data": {
      "text/plain": [
       "[1, 2, 5, 3, 4, 5, 6, 7]"
      ]
     },
     "execution_count": 68,
     "metadata": {},
     "output_type": "execute_result"
    }
   ],
   "source": [
    "list1.insert(2,5)\n",
    "list1"
   ]
  },
  {
   "cell_type": "code",
   "execution_count": 69,
   "id": "1784111b",
   "metadata": {},
   "outputs": [
    {
     "data": {
      "text/plain": [
       "5"
      ]
     },
     "execution_count": 69,
     "metadata": {},
     "output_type": "execute_result"
    }
   ],
   "source": [
    "# parameter is index\n",
    "\n",
    "list1.pop(5)"
   ]
  },
  {
   "cell_type": "code",
   "execution_count": 70,
   "id": "5b9ce868",
   "metadata": {},
   "outputs": [
    {
     "data": {
      "text/plain": [
       "[1, 2, 5, 3, 4, 6, 7]"
      ]
     },
     "execution_count": 70,
     "metadata": {},
     "output_type": "execute_result"
    }
   ],
   "source": [
    "list1"
   ]
  },
  {
   "cell_type": "code",
   "execution_count": 71,
   "id": "528fba62",
   "metadata": {},
   "outputs": [],
   "source": [
    "# parameter is element\n",
    "list1.remove(2)"
   ]
  },
  {
   "cell_type": "raw",
   "id": "3db98b5d",
   "metadata": {},
   "source": [
    "# ValueError: list.remove(x): x not in list\n",
    "\n",
    "list1.remove(8)"
   ]
  },
  {
   "cell_type": "code",
   "execution_count": 72,
   "id": "71880130",
   "metadata": {},
   "outputs": [
    {
     "data": {
      "text/plain": [
       "[1, 5, 3, 4, 6, 7]"
      ]
     },
     "execution_count": 72,
     "metadata": {},
     "output_type": "execute_result"
    }
   ],
   "source": [
    "list1"
   ]
  },
  {
   "cell_type": "code",
   "execution_count": 73,
   "id": "ec9fde26",
   "metadata": {},
   "outputs": [
    {
     "data": {
      "text/plain": [
       "[7, 6, 4, 3, 5, 1]"
      ]
     },
     "execution_count": 73,
     "metadata": {},
     "output_type": "execute_result"
    }
   ],
   "source": [
    "list1.reverse()\n",
    "list1"
   ]
  },
  {
   "cell_type": "code",
   "execution_count": 74,
   "id": "85f29ffa",
   "metadata": {},
   "outputs": [
    {
     "data": {
      "text/plain": [
       "[1, 3, 4, 5, 6, 7]"
      ]
     },
     "execution_count": 74,
     "metadata": {},
     "output_type": "execute_result"
    }
   ],
   "source": [
    "list1.sort()\n",
    "list1"
   ]
  },
  {
   "cell_type": "markdown",
   "id": "71a815fa",
   "metadata": {},
   "source": [
    "### Python Tuple"
   ]
  },
  {
   "cell_type": "code",
   "execution_count": 75,
   "id": "423d5053",
   "metadata": {},
   "outputs": [],
   "source": [
    "my_tuple = (1,2,3,2,3,4,2,1)"
   ]
  },
  {
   "cell_type": "code",
   "execution_count": 76,
   "id": "b2471be9",
   "metadata": {},
   "outputs": [
    {
     "data": {
      "text/plain": [
       "tuple"
      ]
     },
     "execution_count": 76,
     "metadata": {},
     "output_type": "execute_result"
    }
   ],
   "source": [
    "type(my_tuple)"
   ]
  },
  {
   "cell_type": "code",
   "execution_count": 77,
   "id": "38c21904",
   "metadata": {},
   "outputs": [
    {
     "data": {
      "text/plain": [
       "3"
      ]
     },
     "execution_count": 77,
     "metadata": {},
     "output_type": "execute_result"
    }
   ],
   "source": [
    "my_tuple.count(2)"
   ]
  },
  {
   "cell_type": "code",
   "execution_count": 78,
   "id": "eda7e650",
   "metadata": {},
   "outputs": [
    {
     "data": {
      "text/plain": [
       "5"
      ]
     },
     "execution_count": 78,
     "metadata": {},
     "output_type": "execute_result"
    }
   ],
   "source": [
    "my_tuple.index(4)"
   ]
  },
  {
   "cell_type": "markdown",
   "id": "6e1cadcd",
   "metadata": {},
   "source": [
    "### Python Set"
   ]
  },
  {
   "cell_type": "code",
   "execution_count": 79,
   "id": "4b09aace",
   "metadata": {},
   "outputs": [],
   "source": [
    "set1 = set([1,2,3,4])"
   ]
  },
  {
   "cell_type": "code",
   "execution_count": 80,
   "id": "dfcdd7ee",
   "metadata": {},
   "outputs": [],
   "source": [
    "set2 = {1,2,3,4}"
   ]
  },
  {
   "cell_type": "code",
   "execution_count": 81,
   "id": "4f918daf",
   "metadata": {},
   "outputs": [],
   "source": [
    "set2.add(5)\n",
    "set2.add(6)\n",
    "set2.add(7)"
   ]
  },
  {
   "cell_type": "code",
   "execution_count": 82,
   "id": "7a017503",
   "metadata": {},
   "outputs": [
    {
     "data": {
      "text/plain": [
       "set()"
      ]
     },
     "execution_count": 82,
     "metadata": {},
     "output_type": "execute_result"
    }
   ],
   "source": [
    "set1.clear()\n",
    "set1"
   ]
  },
  {
   "cell_type": "code",
   "execution_count": 83,
   "id": "4e3b0fad",
   "metadata": {},
   "outputs": [],
   "source": [
    "set1 = set([1,2,3,4])"
   ]
  },
  {
   "cell_type": "code",
   "execution_count": 84,
   "id": "ba177bb8",
   "metadata": {},
   "outputs": [],
   "source": [
    "set3 = set2.copy()"
   ]
  },
  {
   "cell_type": "code",
   "execution_count": 85,
   "id": "31c94bee",
   "metadata": {},
   "outputs": [
    {
     "data": {
      "text/plain": [
       "{5, 6, 7}"
      ]
     },
     "execution_count": 85,
     "metadata": {},
     "output_type": "execute_result"
    }
   ],
   "source": [
    "set2.difference(set1)"
   ]
  },
  {
   "cell_type": "code",
   "execution_count": 86,
   "id": "58751c3f",
   "metadata": {},
   "outputs": [
    {
     "data": {
      "text/plain": [
       "{5, 6, 7}"
      ]
     },
     "execution_count": 86,
     "metadata": {},
     "output_type": "execute_result"
    }
   ],
   "source": [
    "set2.difference_update(set1)\n",
    "set2"
   ]
  },
  {
   "cell_type": "code",
   "execution_count": 87,
   "id": "8a9f0aa7",
   "metadata": {},
   "outputs": [],
   "source": [
    "set2.discard(5)"
   ]
  },
  {
   "cell_type": "code",
   "execution_count": 88,
   "id": "ab4b9beb",
   "metadata": {},
   "outputs": [
    {
     "data": {
      "text/plain": [
       "{6, 7}"
      ]
     },
     "execution_count": 88,
     "metadata": {},
     "output_type": "execute_result"
    }
   ],
   "source": [
    "set2"
   ]
  },
  {
   "cell_type": "code",
   "execution_count": 89,
   "id": "071f02a6",
   "metadata": {},
   "outputs": [
    {
     "data": {
      "text/plain": [
       "{1, 2, 3, 4}"
      ]
     },
     "execution_count": 89,
     "metadata": {},
     "output_type": "execute_result"
    }
   ],
   "source": [
    "set3.intersection(set1)"
   ]
  },
  {
   "cell_type": "code",
   "execution_count": 90,
   "id": "ca859a9c",
   "metadata": {},
   "outputs": [
    {
     "data": {
      "text/plain": [
       "{1, 2, 3, 4}"
      ]
     },
     "execution_count": 90,
     "metadata": {},
     "output_type": "execute_result"
    }
   ],
   "source": [
    "set3.intersection_update(set1)\n",
    "set3"
   ]
  },
  {
   "cell_type": "code",
   "execution_count": 91,
   "id": "f9b7b5a3",
   "metadata": {},
   "outputs": [
    {
     "name": "stdout",
     "output_type": "stream",
     "text": [
      "{1, 2, 3, 4}\n",
      "{6, 7}\n",
      "{1, 2, 3, 4}\n"
     ]
    }
   ],
   "source": [
    "print(set1)\n",
    "print(set2)\n",
    "print(set3)"
   ]
  },
  {
   "cell_type": "code",
   "execution_count": 92,
   "id": "26af1d87",
   "metadata": {},
   "outputs": [
    {
     "data": {
      "text/plain": [
       "True"
      ]
     },
     "execution_count": 92,
     "metadata": {},
     "output_type": "execute_result"
    }
   ],
   "source": [
    "set2.isdisjoint(set1)"
   ]
  },
  {
   "cell_type": "code",
   "execution_count": 93,
   "id": "9727763b",
   "metadata": {},
   "outputs": [
    {
     "data": {
      "text/plain": [
       "False"
      ]
     },
     "execution_count": 93,
     "metadata": {},
     "output_type": "execute_result"
    }
   ],
   "source": [
    "set3.isdisjoint(set1)"
   ]
  },
  {
   "cell_type": "code",
   "execution_count": 94,
   "id": "c7c00a08",
   "metadata": {},
   "outputs": [
    {
     "data": {
      "text/plain": [
       "False"
      ]
     },
     "execution_count": 94,
     "metadata": {},
     "output_type": "execute_result"
    }
   ],
   "source": [
    "set2.issubset(set1)"
   ]
  },
  {
   "cell_type": "code",
   "execution_count": 95,
   "id": "a86aa7b4",
   "metadata": {},
   "outputs": [
    {
     "data": {
      "text/plain": [
       "True"
      ]
     },
     "execution_count": 95,
     "metadata": {},
     "output_type": "execute_result"
    }
   ],
   "source": [
    "set3.issubset(set1)"
   ]
  },
  {
   "cell_type": "code",
   "execution_count": 96,
   "id": "76b043c0",
   "metadata": {},
   "outputs": [
    {
     "name": "stdout",
     "output_type": "stream",
     "text": [
      "{1, 2, 3, 4, 6, 7}\n",
      "{6, 7}\n",
      "{1, 2, 3, 4, 9}\n"
     ]
    }
   ],
   "source": [
    "set1.add(7)\n",
    "set1.add(6)\n",
    "set3.add(9)\n",
    "print(set1)\n",
    "print(set2)\n",
    "print(set3)"
   ]
  },
  {
   "cell_type": "code",
   "execution_count": 97,
   "id": "7b627be3",
   "metadata": {},
   "outputs": [
    {
     "data": {
      "text/plain": [
       "True"
      ]
     },
     "execution_count": 97,
     "metadata": {},
     "output_type": "execute_result"
    }
   ],
   "source": [
    "# Return True if all items set 2 are present in set 1\n",
    "set1.issuperset(set2)"
   ]
  },
  {
   "cell_type": "code",
   "execution_count": 98,
   "id": "b1960cb0",
   "metadata": {},
   "outputs": [
    {
     "data": {
      "text/plain": [
       "False"
      ]
     },
     "execution_count": 98,
     "metadata": {},
     "output_type": "execute_result"
    }
   ],
   "source": [
    "set1.issuperset(set3)"
   ]
  },
  {
   "cell_type": "code",
   "execution_count": 99,
   "id": "aee358cf",
   "metadata": {},
   "outputs": [
    {
     "data": {
      "text/plain": [
       "1"
      ]
     },
     "execution_count": 99,
     "metadata": {},
     "output_type": "execute_result"
    }
   ],
   "source": [
    "set1.pop()\n"
   ]
  },
  {
   "cell_type": "code",
   "execution_count": 100,
   "id": "9ca0dc83",
   "metadata": {},
   "outputs": [
    {
     "data": {
      "text/plain": [
       "{2, 3, 4, 6, 7}"
      ]
     },
     "execution_count": 100,
     "metadata": {},
     "output_type": "execute_result"
    }
   ],
   "source": [
    "set1"
   ]
  },
  {
   "cell_type": "code",
   "execution_count": 101,
   "id": "4d43b390",
   "metadata": {},
   "outputs": [],
   "source": [
    "set1.remove(4)"
   ]
  },
  {
   "cell_type": "code",
   "execution_count": 106,
   "id": "945ed60b",
   "metadata": {},
   "outputs": [
    {
     "name": "stdout",
     "output_type": "stream",
     "text": [
      "{2, 3, 6, 7}\n",
      "{6, 7}\n"
     ]
    }
   ],
   "source": [
    "print(set1)\n",
    "print(set2)"
   ]
  },
  {
   "cell_type": "code",
   "execution_count": 104,
   "id": "b539e28e",
   "metadata": {},
   "outputs": [
    {
     "data": {
      "text/plain": [
       "{2, 3}"
      ]
     },
     "execution_count": 104,
     "metadata": {},
     "output_type": "execute_result"
    }
   ],
   "source": [
    "set1.symmetric_difference(set2)"
   ]
  },
  {
   "cell_type": "code",
   "execution_count": 107,
   "id": "82e6416d",
   "metadata": {},
   "outputs": [],
   "source": [
    "set1.symmetric_difference_update(set2)"
   ]
  },
  {
   "cell_type": "code",
   "execution_count": 109,
   "id": "8c97b45f",
   "metadata": {},
   "outputs": [
    {
     "data": {
      "text/plain": [
       "{2, 3}"
      ]
     },
     "execution_count": 109,
     "metadata": {},
     "output_type": "execute_result"
    }
   ],
   "source": [
    "set1"
   ]
  },
  {
   "cell_type": "code",
   "execution_count": 110,
   "id": "a3ce9ae5",
   "metadata": {},
   "outputs": [
    {
     "data": {
      "text/plain": [
       "{2, 3, 6, 7}"
      ]
     },
     "execution_count": 110,
     "metadata": {},
     "output_type": "execute_result"
    }
   ],
   "source": [
    "set1.union(set2)"
   ]
  },
  {
   "cell_type": "code",
   "execution_count": 112,
   "id": "c10e9aef",
   "metadata": {},
   "outputs": [
    {
     "data": {
      "text/plain": [
       "{2, 3}"
      ]
     },
     "execution_count": 112,
     "metadata": {},
     "output_type": "execute_result"
    }
   ],
   "source": [
    "set1"
   ]
  },
  {
   "cell_type": "code",
   "execution_count": 113,
   "id": "9306913e",
   "metadata": {},
   "outputs": [],
   "source": [
    "set1.update(set2)"
   ]
  },
  {
   "cell_type": "code",
   "execution_count": 114,
   "id": "1cdceabf",
   "metadata": {},
   "outputs": [
    {
     "data": {
      "text/plain": [
       "{2, 3, 6, 7}"
      ]
     },
     "execution_count": 114,
     "metadata": {},
     "output_type": "execute_result"
    }
   ],
   "source": [
    "set1"
   ]
  },
  {
   "cell_type": "markdown",
   "id": "fdcf132d",
   "metadata": {},
   "source": [
    "### Python Dictionary"
   ]
  },
  {
   "cell_type": "code",
   "execution_count": null,
   "id": "c117f93f",
   "metadata": {},
   "outputs": [],
   "source": []
  }
 ],
 "metadata": {
  "kernelspec": {
   "display_name": "Python 3",
   "language": "python",
   "name": "python3"
  },
  "language_info": {
   "codemirror_mode": {
    "name": "ipython",
    "version": 3
   },
   "file_extension": ".py",
   "mimetype": "text/x-python",
   "name": "python",
   "nbconvert_exporter": "python",
   "pygments_lexer": "ipython3",
   "version": "3.8.8"
  }
 },
 "nbformat": 4,
 "nbformat_minor": 5
}
