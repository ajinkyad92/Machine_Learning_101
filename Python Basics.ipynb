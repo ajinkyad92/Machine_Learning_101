{
 "cells": [
  {
   "cell_type": "markdown",
   "id": "d9df2596",
   "metadata": {},
   "source": [
    "# Python Basics"
   ]
  },
  {
   "cell_type": "markdown",
   "id": "939464c0",
   "metadata": {},
   "source": [
    "## Types of Data Types\n",
    "\n",
    "1. Python Numbers\n",
    "2. Python Boolean\n",
    "3. Python Strings\n",
    "4. Python List\n",
    "5. Python Tuple\n",
    "6. Python Set\n",
    "7. Python Dictionary"
   ]
  },
  {
   "cell_type": "markdown",
   "id": "3b2a597d",
   "metadata": {},
   "source": [
    "### Python Numbers"
   ]
  },
  {
   "cell_type": "markdown",
   "id": "9e2199e9",
   "metadata": {},
   "source": [
    "- Integers"
   ]
  },
  {
   "cell_type": "code",
   "execution_count": 1,
   "id": "1f1bace3",
   "metadata": {},
   "outputs": [
    {
     "name": "stdout",
     "output_type": "stream",
     "text": [
      "123\n"
     ]
    }
   ],
   "source": [
    "print(123)"
   ]
  },
  {
   "cell_type": "code",
   "execution_count": 2,
   "id": "25b343f3",
   "metadata": {},
   "outputs": [
    {
     "data": {
      "text/plain": [
       "int"
      ]
     },
     "execution_count": 2,
     "metadata": {},
     "output_type": "execute_result"
    }
   ],
   "source": [
    "type(123)"
   ]
  },
  {
   "cell_type": "markdown",
   "id": "0a5d825c",
   "metadata": {},
   "source": [
    "- Floating Point"
   ]
  },
  {
   "cell_type": "code",
   "execution_count": 3,
   "id": "dcc62a2e",
   "metadata": {},
   "outputs": [
    {
     "name": "stdout",
     "output_type": "stream",
     "text": [
      "1.45\n"
     ]
    }
   ],
   "source": [
    "print(1.45)"
   ]
  },
  {
   "cell_type": "code",
   "execution_count": 4,
   "id": "d05c3210",
   "metadata": {},
   "outputs": [
    {
     "data": {
      "text/plain": [
       "float"
      ]
     },
     "execution_count": 4,
     "metadata": {},
     "output_type": "execute_result"
    }
   ],
   "source": [
    "type(1.45)"
   ]
  },
  {
   "cell_type": "markdown",
   "id": "35b02182",
   "metadata": {},
   "source": [
    "- Complex Numbers"
   ]
  },
  {
   "cell_type": "code",
   "execution_count": 5,
   "id": "354bb108",
   "metadata": {},
   "outputs": [
    {
     "name": "stdout",
     "output_type": "stream",
     "text": [
      "(5+4j)\n"
     ]
    }
   ],
   "source": [
    "print(5+4j)"
   ]
  },
  {
   "cell_type": "code",
   "execution_count": 6,
   "id": "31301b55",
   "metadata": {},
   "outputs": [
    {
     "data": {
      "text/plain": [
       "complex"
      ]
     },
     "execution_count": 6,
     "metadata": {},
     "output_type": "execute_result"
    }
   ],
   "source": [
    "type(5+4j)"
   ]
  },
  {
   "cell_type": "markdown",
   "id": "57e4853f",
   "metadata": {},
   "source": [
    "#### Built-in Maths Operations"
   ]
  },
  {
   "cell_type": "markdown",
   "id": "7bff373f",
   "metadata": {},
   "source": [
    "- Addition"
   ]
  },
  {
   "cell_type": "code",
   "execution_count": 7,
   "id": "f67aca19",
   "metadata": {},
   "outputs": [
    {
     "data": {
      "text/plain": [
       "10"
      ]
     },
     "execution_count": 7,
     "metadata": {},
     "output_type": "execute_result"
    }
   ],
   "source": [
    "5+5"
   ]
  },
  {
   "cell_type": "code",
   "execution_count": 8,
   "id": "2c5ccebc",
   "metadata": {},
   "outputs": [
    {
     "data": {
      "text/plain": [
       "10.0"
      ]
     },
     "execution_count": 8,
     "metadata": {},
     "output_type": "execute_result"
    }
   ],
   "source": [
    "5.0+5.0"
   ]
  },
  {
   "cell_type": "code",
   "execution_count": 9,
   "id": "32f026de",
   "metadata": {},
   "outputs": [
    {
     "data": {
      "text/plain": [
       "(8+8j)"
      ]
     },
     "execution_count": 9,
     "metadata": {},
     "output_type": "execute_result"
    }
   ],
   "source": [
    "(4+5j) + (4+3j)"
   ]
  },
  {
   "cell_type": "markdown",
   "id": "5442dcf6",
   "metadata": {},
   "source": [
    "- Subtraction"
   ]
  },
  {
   "cell_type": "code",
   "execution_count": 10,
   "id": "915f8ef0",
   "metadata": {},
   "outputs": [
    {
     "data": {
      "text/plain": [
       "3"
      ]
     },
     "execution_count": 10,
     "metadata": {},
     "output_type": "execute_result"
    }
   ],
   "source": [
    "10-7"
   ]
  },
  {
   "cell_type": "code",
   "execution_count": 11,
   "id": "018c3d59",
   "metadata": {},
   "outputs": [
    {
     "data": {
      "text/plain": [
       "10.700000000000003"
      ]
     },
     "execution_count": 11,
     "metadata": {},
     "output_type": "execute_result"
    }
   ],
   "source": [
    "99.4-88.7"
   ]
  },
  {
   "cell_type": "code",
   "execution_count": 12,
   "id": "7303a4a1",
   "metadata": {},
   "outputs": [
    {
     "data": {
      "text/plain": [
       "(1-9j)"
      ]
     },
     "execution_count": 12,
     "metadata": {},
     "output_type": "execute_result"
    }
   ],
   "source": [
    "(5-3j) - (4+6j)"
   ]
  },
  {
   "cell_type": "markdown",
   "id": "a338207f",
   "metadata": {},
   "source": [
    "- Multiplication"
   ]
  },
  {
   "cell_type": "code",
   "execution_count": 13,
   "id": "d390f19c",
   "metadata": {},
   "outputs": [
    {
     "data": {
      "text/plain": [
       "32"
      ]
     },
     "execution_count": 13,
     "metadata": {},
     "output_type": "execute_result"
    }
   ],
   "source": [
    "8*4"
   ]
  },
  {
   "cell_type": "code",
   "execution_count": 14,
   "id": "4b9793e4",
   "metadata": {},
   "outputs": [
    {
     "data": {
      "text/plain": [
       "33.599999999999994"
      ]
     },
     "execution_count": 14,
     "metadata": {},
     "output_type": "execute_result"
    }
   ],
   "source": [
    "6.0*5.6"
   ]
  },
  {
   "cell_type": "code",
   "execution_count": 15,
   "id": "b7940ebf",
   "metadata": {},
   "outputs": [
    {
     "data": {
      "text/plain": [
       "(-24-42j)"
      ]
     },
     "execution_count": 15,
     "metadata": {},
     "output_type": "execute_result"
    }
   ],
   "source": [
    "(2-4j) * (6-9j)"
   ]
  },
  {
   "cell_type": "markdown",
   "id": "e5b8a886",
   "metadata": {},
   "source": [
    "- Division"
   ]
  },
  {
   "cell_type": "code",
   "execution_count": 16,
   "id": "2cb6eecb",
   "metadata": {},
   "outputs": [
    {
     "data": {
      "text/plain": [
       "6.0"
      ]
     },
     "execution_count": 16,
     "metadata": {},
     "output_type": "execute_result"
    }
   ],
   "source": [
    "24/4"
   ]
  },
  {
   "cell_type": "code",
   "execution_count": 17,
   "id": "92bf4ce0",
   "metadata": {},
   "outputs": [
    {
     "data": {
      "text/plain": [
       "5.846153846153847"
      ]
     },
     "execution_count": 17,
     "metadata": {},
     "output_type": "execute_result"
    }
   ],
   "source": [
    "45.6/7.8"
   ]
  },
  {
   "cell_type": "code",
   "execution_count": 18,
   "id": "e042813f",
   "metadata": {},
   "outputs": [
    {
     "data": {
      "text/plain": [
       "(1.1153846153846154+0.07692307692307686j)"
      ]
     },
     "execution_count": 18,
     "metadata": {},
     "output_type": "execute_result"
    }
   ],
   "source": [
    "(7-4j) / (6-4j)"
   ]
  },
  {
   "cell_type": "markdown",
   "id": "708acb8a",
   "metadata": {},
   "source": [
    "- Modulus"
   ]
  },
  {
   "cell_type": "code",
   "execution_count": 19,
   "id": "8247cc3c",
   "metadata": {},
   "outputs": [
    {
     "data": {
      "text/plain": [
       "0"
      ]
     },
     "execution_count": 19,
     "metadata": {},
     "output_type": "execute_result"
    }
   ],
   "source": [
    "64%4"
   ]
  },
  {
   "cell_type": "code",
   "execution_count": 20,
   "id": "0791c140",
   "metadata": {},
   "outputs": [
    {
     "data": {
      "text/plain": [
       "1"
      ]
     },
     "execution_count": 20,
     "metadata": {},
     "output_type": "execute_result"
    }
   ],
   "source": [
    "65%4"
   ]
  },
  {
   "cell_type": "code",
   "execution_count": 21,
   "id": "49489d68",
   "metadata": {},
   "outputs": [
    {
     "data": {
      "text/plain": [
       "1.0"
      ]
     },
     "execution_count": 21,
     "metadata": {},
     "output_type": "execute_result"
    }
   ],
   "source": [
    "65.0%4"
   ]
  },
  {
   "cell_type": "raw",
   "id": "65825731",
   "metadata": {},
   "source": [
    "# TypeError: can't mod complex numbers.\n",
    "\n",
    "(1-2j) % (3-4j)"
   ]
  },
  {
   "cell_type": "markdown",
   "id": "4563d7f1",
   "metadata": {},
   "source": [
    "- Power"
   ]
  },
  {
   "cell_type": "code",
   "execution_count": 22,
   "id": "099c2842",
   "metadata": {},
   "outputs": [
    {
     "data": {
      "text/plain": [
       "4096"
      ]
     },
     "execution_count": 22,
     "metadata": {},
     "output_type": "execute_result"
    }
   ],
   "source": [
    "pow(64,2)"
   ]
  },
  {
   "cell_type": "code",
   "execution_count": 23,
   "id": "0121fb13",
   "metadata": {},
   "outputs": [
    {
     "data": {
      "text/plain": [
       "4096"
      ]
     },
     "execution_count": 23,
     "metadata": {},
     "output_type": "execute_result"
    }
   ],
   "source": [
    "64 ** 2"
   ]
  },
  {
   "cell_type": "code",
   "execution_count": 24,
   "id": "237edba4",
   "metadata": {},
   "outputs": [
    {
     "data": {
      "text/plain": [
       "4225.0"
      ]
     },
     "execution_count": 24,
     "metadata": {},
     "output_type": "execute_result"
    }
   ],
   "source": [
    "65.0 ** 2"
   ]
  },
  {
   "cell_type": "code",
   "execution_count": 25,
   "id": "f85b87f8",
   "metadata": {},
   "outputs": [
    {
     "data": {
      "text/plain": [
       "(0.12900959407446697-0.03392409290517014j)"
      ]
     },
     "execution_count": 25,
     "metadata": {},
     "output_type": "execute_result"
    }
   ],
   "source": [
    "(1-2j) ** (3-4j)"
   ]
  },
  {
   "cell_type": "markdown",
   "id": "3aaf9800",
   "metadata": {},
   "source": [
    "- Floor Division"
   ]
  },
  {
   "cell_type": "code",
   "execution_count": 26,
   "id": "ef8d1096",
   "metadata": {},
   "outputs": [
    {
     "data": {
      "text/plain": [
       "32"
      ]
     },
     "execution_count": 26,
     "metadata": {},
     "output_type": "execute_result"
    }
   ],
   "source": [
    "64 // 2"
   ]
  },
  {
   "cell_type": "code",
   "execution_count": 27,
   "id": "1ae0ea6d",
   "metadata": {},
   "outputs": [
    {
     "data": {
      "text/plain": [
       "32.0"
      ]
     },
     "execution_count": 27,
     "metadata": {},
     "output_type": "execute_result"
    }
   ],
   "source": [
    "65.0 // 2"
   ]
  },
  {
   "cell_type": "raw",
   "id": "0d4d81cc",
   "metadata": {},
   "source": [
    "# TypeError: can't take floor of complex number.\n",
    "\n",
    "(1-2j) // (3-4j)"
   ]
  },
  {
   "cell_type": "markdown",
   "id": "cb4db718",
   "metadata": {},
   "source": [
    "- Absolute"
   ]
  },
  {
   "cell_type": "code",
   "execution_count": 28,
   "id": "c4cd935b",
   "metadata": {},
   "outputs": [
    {
     "name": "stdout",
     "output_type": "stream",
     "text": [
      "123\n",
      "56.456\n",
      "2.23606797749979\n",
      "56.89\n"
     ]
    }
   ],
   "source": [
    "print(abs(-123))\n",
    "print(abs(56.456))\n",
    "print(abs((1-2j)))\n",
    "print(round(abs((56.89046467578)),2))"
   ]
  },
  {
   "cell_type": "markdown",
   "id": "37ad0730",
   "metadata": {},
   "source": [
    "#### Importing Libraries for various math function available in the library"
   ]
  },
  {
   "cell_type": "code",
   "execution_count": 29,
   "id": "959da3fa",
   "metadata": {},
   "outputs": [],
   "source": [
    "import math"
   ]
  },
  {
   "cell_type": "code",
   "execution_count": 30,
   "id": "7a232306",
   "metadata": {},
   "outputs": [
    {
     "data": {
      "text/plain": [
       "-0.26237485370392877"
      ]
     },
     "execution_count": 30,
     "metadata": {},
     "output_type": "execute_result"
    }
   ],
   "source": [
    "math.sin(50)"
   ]
  },
  {
   "cell_type": "code",
   "execution_count": 31,
   "id": "9d6cf929",
   "metadata": {},
   "outputs": [
    {
     "name": "stdout",
     "output_type": "stream",
     "text": [
      "56\n",
      "57\n"
     ]
    }
   ],
   "source": [
    "print((math.floor((56.89046467578))))\n",
    "print((math.ceil((56.89046467578))))"
   ]
  },
  {
   "cell_type": "markdown",
   "id": "a8cf4b41",
   "metadata": {},
   "source": [
    "### Python Boolean "
   ]
  },
  {
   "cell_type": "code",
   "execution_count": 32,
   "id": "afe13bd2",
   "metadata": {},
   "outputs": [
    {
     "data": {
      "text/plain": [
       "True"
      ]
     },
     "execution_count": 32,
     "metadata": {},
     "output_type": "execute_result"
    }
   ],
   "source": [
    "True"
   ]
  },
  {
   "cell_type": "code",
   "execution_count": 33,
   "id": "470e4afa",
   "metadata": {},
   "outputs": [
    {
     "data": {
      "text/plain": [
       "False"
      ]
     },
     "execution_count": 33,
     "metadata": {},
     "output_type": "execute_result"
    }
   ],
   "source": [
    "False"
   ]
  },
  {
   "cell_type": "code",
   "execution_count": 34,
   "id": "2fb1a7bb",
   "metadata": {},
   "outputs": [
    {
     "data": {
      "text/plain": [
       "bool"
      ]
     },
     "execution_count": 34,
     "metadata": {},
     "output_type": "execute_result"
    }
   ],
   "source": [
    "type(True)"
   ]
  },
  {
   "cell_type": "code",
   "execution_count": 35,
   "id": "caf9c7a3",
   "metadata": {},
   "outputs": [],
   "source": [
    "is_variable = True"
   ]
  },
  {
   "cell_type": "markdown",
   "id": "f987e875",
   "metadata": {},
   "source": [
    "### Python Strings"
   ]
  },
  {
   "cell_type": "code",
   "execution_count": 36,
   "id": "1792f2d6",
   "metadata": {},
   "outputs": [],
   "source": [
    "str_variable = \"Hello World!\""
   ]
  },
  {
   "cell_type": "code",
   "execution_count": 37,
   "id": "1456ecf3",
   "metadata": {},
   "outputs": [
    {
     "data": {
      "text/plain": [
       "'Hello world!'"
      ]
     },
     "execution_count": 37,
     "metadata": {},
     "output_type": "execute_result"
    }
   ],
   "source": [
    "str_variable.capitalize()"
   ]
  },
  {
   "cell_type": "code",
   "execution_count": 38,
   "id": "3a233de1",
   "metadata": {},
   "outputs": [
    {
     "data": {
      "text/plain": [
       "'hello world!'"
      ]
     },
     "execution_count": 38,
     "metadata": {},
     "output_type": "execute_result"
    }
   ],
   "source": [
    "str_variable.casefold()"
   ]
  },
  {
   "cell_type": "code",
   "execution_count": 39,
   "id": "f84cf146",
   "metadata": {},
   "outputs": [
    {
     "data": {
      "text/plain": [
       "'                                            Hello World!                                            '"
      ]
     },
     "execution_count": 39,
     "metadata": {},
     "output_type": "execute_result"
    }
   ],
   "source": [
    "str_variable.center(100)"
   ]
  },
  {
   "cell_type": "code",
   "execution_count": 40,
   "id": "06e5267e",
   "metadata": {},
   "outputs": [
    {
     "data": {
      "text/plain": [
       "2"
      ]
     },
     "execution_count": 40,
     "metadata": {},
     "output_type": "execute_result"
    }
   ],
   "source": [
    "str_variable.count('o')"
   ]
  },
  {
   "cell_type": "code",
   "execution_count": 41,
   "id": "ca1dacaa",
   "metadata": {},
   "outputs": [
    {
     "data": {
      "text/plain": [
       "0"
      ]
     },
     "execution_count": 41,
     "metadata": {},
     "output_type": "execute_result"
    }
   ],
   "source": [
    "str_variable.count('O')"
   ]
  },
  {
   "cell_type": "code",
   "execution_count": 42,
   "id": "fca19ec9",
   "metadata": {},
   "outputs": [
    {
     "data": {
      "text/plain": [
       "b'Hello World!'"
      ]
     },
     "execution_count": 42,
     "metadata": {},
     "output_type": "execute_result"
    }
   ],
   "source": [
    "str_variable.encode('utf-8')"
   ]
  },
  {
   "cell_type": "code",
   "execution_count": 43,
   "id": "2d2d7a26",
   "metadata": {},
   "outputs": [
    {
     "data": {
      "text/plain": [
       "True"
      ]
     },
     "execution_count": 43,
     "metadata": {},
     "output_type": "execute_result"
    }
   ],
   "source": [
    "str_variable.endswith('!')"
   ]
  },
  {
   "cell_type": "code",
   "execution_count": 44,
   "id": "6e111fd4",
   "metadata": {},
   "outputs": [
    {
     "data": {
      "text/plain": [
       "False"
      ]
     },
     "execution_count": 44,
     "metadata": {},
     "output_type": "execute_result"
    }
   ],
   "source": [
    "str_variable.endswith('d')"
   ]
  },
  {
   "cell_type": "code",
   "execution_count": 45,
   "id": "93484a63",
   "metadata": {},
   "outputs": [
    {
     "data": {
      "text/plain": [
       "False"
      ]
     },
     "execution_count": 45,
     "metadata": {},
     "output_type": "execute_result"
    }
   ],
   "source": [
    "str_variable.startswith('h')"
   ]
  },
  {
   "cell_type": "code",
   "execution_count": 46,
   "id": "c6a883df",
   "metadata": {},
   "outputs": [
    {
     "data": {
      "text/plain": [
       "True"
      ]
     },
     "execution_count": 46,
     "metadata": {},
     "output_type": "execute_result"
    }
   ],
   "source": [
    "str_variable.startswith('H')"
   ]
  },
  {
   "cell_type": "code",
   "execution_count": 47,
   "id": "f8c9cb2b",
   "metadata": {},
   "outputs": [
    {
     "data": {
      "text/plain": [
       "'H'"
      ]
     },
     "execution_count": 47,
     "metadata": {},
     "output_type": "execute_result"
    }
   ],
   "source": [
    "str_variable[0]"
   ]
  },
  {
   "cell_type": "code",
   "execution_count": 48,
   "id": "6b662ae6",
   "metadata": {},
   "outputs": [
    {
     "data": {
      "text/plain": [
       "'Hello '"
      ]
     },
     "execution_count": 48,
     "metadata": {},
     "output_type": "execute_result"
    }
   ],
   "source": [
    "str_variable[0:6]"
   ]
  },
  {
   "cell_type": "code",
   "execution_count": 49,
   "id": "5124760d",
   "metadata": {},
   "outputs": [
    {
     "data": {
      "text/plain": [
       "' Wo'"
      ]
     },
     "execution_count": 49,
     "metadata": {},
     "output_type": "execute_result"
    }
   ],
   "source": [
    "str_variable[5:8]"
   ]
  },
  {
   "cell_type": "code",
   "execution_count": 50,
   "id": "8a12bb3d",
   "metadata": {},
   "outputs": [
    {
     "data": {
      "text/plain": [
       "'!dlroW olleH'"
      ]
     },
     "execution_count": 50,
     "metadata": {},
     "output_type": "execute_result"
    }
   ],
   "source": [
    "str_variable[::-1]"
   ]
  },
  {
   "cell_type": "code",
   "execution_count": 51,
   "id": "b9c4a1d4",
   "metadata": {},
   "outputs": [
    {
     "data": {
      "text/plain": [
       "'i love you '"
      ]
     },
     "execution_count": 51,
     "metadata": {},
     "output_type": "execute_result"
    }
   ],
   "source": [
    "str_1 = 'i\\tlove\\tyou\\t'\n",
    "str_1.expandtabs(1)"
   ]
  },
  {
   "cell_type": "code",
   "execution_count": 52,
   "id": "83414a94",
   "metadata": {},
   "outputs": [
    {
     "data": {
      "text/plain": [
       "2"
      ]
     },
     "execution_count": 52,
     "metadata": {},
     "output_type": "execute_result"
    }
   ],
   "source": [
    "str_variable.find('l')"
   ]
  },
  {
   "cell_type": "code",
   "execution_count": 53,
   "id": "32b97722",
   "metadata": {},
   "outputs": [
    {
     "data": {
      "text/plain": [
       "1"
      ]
     },
     "execution_count": 53,
     "metadata": {},
     "output_type": "execute_result"
    }
   ],
   "source": [
    "str_variable.index('e')"
   ]
  },
  {
   "cell_type": "code",
   "execution_count": 54,
   "id": "2a0ceeed",
   "metadata": {},
   "outputs": [
    {
     "data": {
      "text/plain": [
       "'hELLO wORLD!'"
      ]
     },
     "execution_count": 54,
     "metadata": {},
     "output_type": "execute_result"
    }
   ],
   "source": [
    "str_variable.swapcase()"
   ]
  },
  {
   "cell_type": "markdown",
   "id": "2f9caa39",
   "metadata": {},
   "source": [
    "### Python List"
   ]
  },
  {
   "cell_type": "code",
   "execution_count": 55,
   "id": "a6a51394",
   "metadata": {},
   "outputs": [],
   "source": [
    "list1 = []"
   ]
  },
  {
   "cell_type": "code",
   "execution_count": 56,
   "id": "eb4ada80",
   "metadata": {},
   "outputs": [
    {
     "data": {
      "text/plain": [
       "list"
      ]
     },
     "execution_count": 56,
     "metadata": {},
     "output_type": "execute_result"
    }
   ],
   "source": [
    "type(list1)"
   ]
  },
  {
   "cell_type": "code",
   "execution_count": 57,
   "id": "3ab8ac26",
   "metadata": {},
   "outputs": [],
   "source": [
    "list1 = [1,2,3,4,5,6,7]"
   ]
  },
  {
   "cell_type": "code",
   "execution_count": 58,
   "id": "2e0da2d9",
   "metadata": {},
   "outputs": [
    {
     "name": "stdout",
     "output_type": "stream",
     "text": [
      "[1, 2, 3, 4, 5, 6, 7, 8]\n"
     ]
    }
   ],
   "source": [
    "list1.append(8)\n",
    "print(list1)"
   ]
  },
  {
   "cell_type": "code",
   "execution_count": 59,
   "id": "0e6c00d5",
   "metadata": {},
   "outputs": [
    {
     "data": {
      "text/plain": [
       "[]"
      ]
     },
     "execution_count": 59,
     "metadata": {},
     "output_type": "execute_result"
    }
   ],
   "source": [
    "list1.clear()\n",
    "list1"
   ]
  },
  {
   "cell_type": "code",
   "execution_count": 60,
   "id": "f43e6b51",
   "metadata": {},
   "outputs": [],
   "source": [
    "list1 = [1,2,3,4,5,6,7]"
   ]
  },
  {
   "cell_type": "code",
   "execution_count": 61,
   "id": "882ede94",
   "metadata": {},
   "outputs": [
    {
     "data": {
      "text/plain": [
       "[1, 2, 3, 4, 5, 6, 7]"
      ]
     },
     "execution_count": 61,
     "metadata": {},
     "output_type": "execute_result"
    }
   ],
   "source": [
    "list2 = list1.copy()\n",
    "list2"
   ]
  },
  {
   "cell_type": "code",
   "execution_count": 62,
   "id": "3088be57",
   "metadata": {},
   "outputs": [
    {
     "data": {
      "text/plain": [
       "[1, 2, 3, 4, 5, 6, 7]"
      ]
     },
     "execution_count": 62,
     "metadata": {},
     "output_type": "execute_result"
    }
   ],
   "source": [
    "list2.append(8)\n",
    "list2.append(8)\n",
    "list2.append(8)\n",
    "list1"
   ]
  },
  {
   "cell_type": "code",
   "execution_count": 63,
   "id": "4da65bdc",
   "metadata": {},
   "outputs": [
    {
     "data": {
      "text/plain": [
       "[1, 2, 3, 4, 5, 6, 7, 8, 8, 8]"
      ]
     },
     "execution_count": 63,
     "metadata": {},
     "output_type": "execute_result"
    }
   ],
   "source": [
    "list2"
   ]
  },
  {
   "cell_type": "code",
   "execution_count": 64,
   "id": "b11ea357",
   "metadata": {},
   "outputs": [
    {
     "data": {
      "text/plain": [
       "3"
      ]
     },
     "execution_count": 64,
     "metadata": {},
     "output_type": "execute_result"
    }
   ],
   "source": [
    "list2.count(8)"
   ]
  },
  {
   "cell_type": "code",
   "execution_count": 65,
   "id": "7b405ce5",
   "metadata": {},
   "outputs": [
    {
     "data": {
      "text/plain": [
       "[1, 2, 3, 4, 5, 6, 7, 3, 4, 5]"
      ]
     },
     "execution_count": 65,
     "metadata": {},
     "output_type": "execute_result"
    }
   ],
   "source": [
    "list1.extend([3,4,5])\n",
    "list1"
   ]
  },
  {
   "cell_type": "code",
   "execution_count": 66,
   "id": "d12cc6e2",
   "metadata": {},
   "outputs": [],
   "source": [
    "list1 = [1,2,3,4,5,6,7]"
   ]
  },
  {
   "cell_type": "code",
   "execution_count": 67,
   "id": "65265cb7",
   "metadata": {},
   "outputs": [
    {
     "data": {
      "text/plain": [
       "3"
      ]
     },
     "execution_count": 67,
     "metadata": {},
     "output_type": "execute_result"
    }
   ],
   "source": [
    "list1.index(4)"
   ]
  },
  {
   "cell_type": "code",
   "execution_count": 68,
   "id": "f4c4a14b",
   "metadata": {},
   "outputs": [
    {
     "data": {
      "text/plain": [
       "[1, 2, 5, 3, 4, 5, 6, 7]"
      ]
     },
     "execution_count": 68,
     "metadata": {},
     "output_type": "execute_result"
    }
   ],
   "source": [
    "list1.insert(2,5)\n",
    "list1"
   ]
  },
  {
   "cell_type": "code",
   "execution_count": 69,
   "id": "29ada2ed",
   "metadata": {},
   "outputs": [
    {
     "data": {
      "text/plain": [
       "5"
      ]
     },
     "execution_count": 69,
     "metadata": {},
     "output_type": "execute_result"
    }
   ],
   "source": [
    "# parameter is index\n",
    "\n",
    "list1.pop(5)"
   ]
  },
  {
   "cell_type": "code",
   "execution_count": 70,
   "id": "f2513f0f",
   "metadata": {},
   "outputs": [
    {
     "data": {
      "text/plain": [
       "[1, 2, 5, 3, 4, 6, 7]"
      ]
     },
     "execution_count": 70,
     "metadata": {},
     "output_type": "execute_result"
    }
   ],
   "source": [
    "list1"
   ]
  },
  {
   "cell_type": "code",
   "execution_count": 71,
   "id": "3361538a",
   "metadata": {},
   "outputs": [],
   "source": [
    "# parameter is element\n",
    "list1.remove(2)"
   ]
  },
  {
   "cell_type": "raw",
   "id": "97f3238c",
   "metadata": {},
   "source": [
    "# ValueError: list.remove(x): x not in list\n",
    "\n",
    "list1.remove(8)"
   ]
  },
  {
   "cell_type": "code",
   "execution_count": 72,
   "id": "6f954235",
   "metadata": {},
   "outputs": [
    {
     "data": {
      "text/plain": [
       "[1, 5, 3, 4, 6, 7]"
      ]
     },
     "execution_count": 72,
     "metadata": {},
     "output_type": "execute_result"
    }
   ],
   "source": [
    "list1"
   ]
  },
  {
   "cell_type": "code",
   "execution_count": 73,
   "id": "a970319d",
   "metadata": {},
   "outputs": [
    {
     "data": {
      "text/plain": [
       "[7, 6, 4, 3, 5, 1]"
      ]
     },
     "execution_count": 73,
     "metadata": {},
     "output_type": "execute_result"
    }
   ],
   "source": [
    "list1.reverse()\n",
    "list1"
   ]
  },
  {
   "cell_type": "code",
   "execution_count": 74,
   "id": "b0f94ef6",
   "metadata": {},
   "outputs": [
    {
     "data": {
      "text/plain": [
       "[1, 3, 4, 5, 6, 7]"
      ]
     },
     "execution_count": 74,
     "metadata": {},
     "output_type": "execute_result"
    }
   ],
   "source": [
    "list1.sort()\n",
    "list1"
   ]
  },
  {
   "cell_type": "markdown",
   "id": "cc44a5c7",
   "metadata": {},
   "source": [
    "### Python Tuple"
   ]
  },
  {
   "cell_type": "code",
   "execution_count": 75,
   "id": "39d0f3f3",
   "metadata": {},
   "outputs": [],
   "source": [
    "my_tuple = (1,2,3,2,3,4,2,1)"
   ]
  },
  {
   "cell_type": "code",
   "execution_count": 76,
   "id": "11837a55",
   "metadata": {},
   "outputs": [
    {
     "data": {
      "text/plain": [
       "tuple"
      ]
     },
     "execution_count": 76,
     "metadata": {},
     "output_type": "execute_result"
    }
   ],
   "source": [
    "type(my_tuple)"
   ]
  },
  {
   "cell_type": "code",
   "execution_count": 77,
   "id": "f307b18f",
   "metadata": {},
   "outputs": [
    {
     "data": {
      "text/plain": [
       "3"
      ]
     },
     "execution_count": 77,
     "metadata": {},
     "output_type": "execute_result"
    }
   ],
   "source": [
    "my_tuple.count(2)"
   ]
  },
  {
   "cell_type": "code",
   "execution_count": 78,
   "id": "521c1423",
   "metadata": {},
   "outputs": [
    {
     "data": {
      "text/plain": [
       "5"
      ]
     },
     "execution_count": 78,
     "metadata": {},
     "output_type": "execute_result"
    }
   ],
   "source": [
    "my_tuple.index(4)"
   ]
  },
  {
   "cell_type": "markdown",
   "id": "b7f46038",
   "metadata": {},
   "source": [
    "### Python Set"
   ]
  },
  {
   "cell_type": "code",
   "execution_count": 79,
   "id": "573e44de",
   "metadata": {},
   "outputs": [],
   "source": [
    "set1 = set([1,2,3,4])"
   ]
  },
  {
   "cell_type": "code",
   "execution_count": 80,
   "id": "0082d382",
   "metadata": {},
   "outputs": [],
   "source": [
    "set2 = {1,2,3,4}"
   ]
  },
  {
   "cell_type": "code",
   "execution_count": 81,
   "id": "fd1d4808",
   "metadata": {},
   "outputs": [],
   "source": [
    "set2.add(5)\n",
    "set2.add(6)\n",
    "set2.add(7)"
   ]
  },
  {
   "cell_type": "code",
   "execution_count": 82,
   "id": "cf3d76df",
   "metadata": {},
   "outputs": [
    {
     "data": {
      "text/plain": [
       "set()"
      ]
     },
     "execution_count": 82,
     "metadata": {},
     "output_type": "execute_result"
    }
   ],
   "source": [
    "set1.clear()\n",
    "set1"
   ]
  },
  {
   "cell_type": "code",
   "execution_count": 83,
   "id": "af11aa2d",
   "metadata": {},
   "outputs": [],
   "source": [
    "set1 = set([1,2,3,4])"
   ]
  },
  {
   "cell_type": "code",
   "execution_count": 84,
   "id": "8e5d2b6c",
   "metadata": {},
   "outputs": [],
   "source": [
    "set3 = set2.copy()"
   ]
  },
  {
   "cell_type": "code",
   "execution_count": 85,
   "id": "c2f32cfa",
   "metadata": {},
   "outputs": [
    {
     "data": {
      "text/plain": [
       "{5, 6, 7}"
      ]
     },
     "execution_count": 85,
     "metadata": {},
     "output_type": "execute_result"
    }
   ],
   "source": [
    "set2.difference(set1)"
   ]
  },
  {
   "cell_type": "code",
   "execution_count": 86,
   "id": "575ba4ad",
   "metadata": {},
   "outputs": [
    {
     "data": {
      "text/plain": [
       "{5, 6, 7}"
      ]
     },
     "execution_count": 86,
     "metadata": {},
     "output_type": "execute_result"
    }
   ],
   "source": [
    "set2.difference_update(set1)\n",
    "set2"
   ]
  },
  {
   "cell_type": "code",
   "execution_count": 87,
   "id": "dcc88e33",
   "metadata": {},
   "outputs": [],
   "source": [
    "set2.discard(5)"
   ]
  },
  {
   "cell_type": "code",
   "execution_count": 88,
   "id": "661cd9a2",
   "metadata": {},
   "outputs": [
    {
     "data": {
      "text/plain": [
       "{6, 7}"
      ]
     },
     "execution_count": 88,
     "metadata": {},
     "output_type": "execute_result"
    }
   ],
   "source": [
    "set2"
   ]
  },
  {
   "cell_type": "code",
   "execution_count": 89,
   "id": "f05ce9ef",
   "metadata": {},
   "outputs": [
    {
     "data": {
      "text/plain": [
       "{1, 2, 3, 4}"
      ]
     },
     "execution_count": 89,
     "metadata": {},
     "output_type": "execute_result"
    }
   ],
   "source": [
    "set3.intersection(set1)"
   ]
  },
  {
   "cell_type": "code",
   "execution_count": 90,
   "id": "56bfecd0",
   "metadata": {},
   "outputs": [
    {
     "data": {
      "text/plain": [
       "{1, 2, 3, 4}"
      ]
     },
     "execution_count": 90,
     "metadata": {},
     "output_type": "execute_result"
    }
   ],
   "source": [
    "set3.intersection_update(set1)\n",
    "set3"
   ]
  },
  {
   "cell_type": "code",
   "execution_count": 91,
   "id": "e199d90b",
   "metadata": {},
   "outputs": [
    {
     "name": "stdout",
     "output_type": "stream",
     "text": [
      "{1, 2, 3, 4}\n",
      "{6, 7}\n",
      "{1, 2, 3, 4}\n"
     ]
    }
   ],
   "source": [
    "print(set1)\n",
    "print(set2)\n",
    "print(set3)"
   ]
  },
  {
   "cell_type": "code",
   "execution_count": 92,
   "id": "c33cf637",
   "metadata": {},
   "outputs": [
    {
     "data": {
      "text/plain": [
       "True"
      ]
     },
     "execution_count": 92,
     "metadata": {},
     "output_type": "execute_result"
    }
   ],
   "source": [
    "set2.isdisjoint(set1)"
   ]
  },
  {
   "cell_type": "code",
   "execution_count": 93,
   "id": "2159a9b8",
   "metadata": {},
   "outputs": [
    {
     "data": {
      "text/plain": [
       "False"
      ]
     },
     "execution_count": 93,
     "metadata": {},
     "output_type": "execute_result"
    }
   ],
   "source": [
    "set3.isdisjoint(set1)"
   ]
  },
  {
   "cell_type": "code",
   "execution_count": 94,
   "id": "5985db11",
   "metadata": {},
   "outputs": [
    {
     "data": {
      "text/plain": [
       "False"
      ]
     },
     "execution_count": 94,
     "metadata": {},
     "output_type": "execute_result"
    }
   ],
   "source": [
    "set2.issubset(set1)"
   ]
  },
  {
   "cell_type": "code",
   "execution_count": 95,
   "id": "33dc597f",
   "metadata": {},
   "outputs": [
    {
     "data": {
      "text/plain": [
       "True"
      ]
     },
     "execution_count": 95,
     "metadata": {},
     "output_type": "execute_result"
    }
   ],
   "source": [
    "set3.issubset(set1)"
   ]
  },
  {
   "cell_type": "code",
   "execution_count": 96,
   "id": "532e15ec",
   "metadata": {},
   "outputs": [
    {
     "name": "stdout",
     "output_type": "stream",
     "text": [
      "{1, 2, 3, 4, 6, 7}\n",
      "{6, 7}\n",
      "{1, 2, 3, 4, 9}\n"
     ]
    }
   ],
   "source": [
    "set1.add(7)\n",
    "set1.add(6)\n",
    "set3.add(9)\n",
    "print(set1)\n",
    "print(set2)\n",
    "print(set3)"
   ]
  },
  {
   "cell_type": "code",
   "execution_count": 97,
   "id": "b622ec54",
   "metadata": {},
   "outputs": [
    {
     "data": {
      "text/plain": [
       "True"
      ]
     },
     "execution_count": 97,
     "metadata": {},
     "output_type": "execute_result"
    }
   ],
   "source": [
    "# Return True if all items set 2 are present in set 1\n",
    "set1.issuperset(set2)"
   ]
  },
  {
   "cell_type": "code",
   "execution_count": 98,
   "id": "6a0331db",
   "metadata": {},
   "outputs": [
    {
     "data": {
      "text/plain": [
       "False"
      ]
     },
     "execution_count": 98,
     "metadata": {},
     "output_type": "execute_result"
    }
   ],
   "source": [
    "set1.issuperset(set3)"
   ]
  },
  {
   "cell_type": "code",
   "execution_count": 99,
   "id": "6e87edf8",
   "metadata": {},
   "outputs": [
    {
     "data": {
      "text/plain": [
       "1"
      ]
     },
     "execution_count": 99,
     "metadata": {},
     "output_type": "execute_result"
    }
   ],
   "source": [
    "set1.pop()\n"
   ]
  },
  {
   "cell_type": "code",
   "execution_count": 100,
   "id": "4dc19c19",
   "metadata": {},
   "outputs": [
    {
     "data": {
      "text/plain": [
       "{2, 3, 4, 6, 7}"
      ]
     },
     "execution_count": 100,
     "metadata": {},
     "output_type": "execute_result"
    }
   ],
   "source": [
    "set1"
   ]
  },
  {
   "cell_type": "code",
   "execution_count": 101,
   "id": "14dc17b1",
   "metadata": {},
   "outputs": [],
   "source": [
    "set1.remove(4)"
   ]
  },
  {
   "cell_type": "code",
   "execution_count": 106,
   "id": "d06d5764",
   "metadata": {},
   "outputs": [
    {
     "name": "stdout",
     "output_type": "stream",
     "text": [
      "{2, 3, 6, 7}\n",
      "{6, 7}\n"
     ]
    }
   ],
   "source": [
    "print(set1)\n",
    "print(set2)"
   ]
  },
  {
   "cell_type": "code",
   "execution_count": 104,
   "id": "d3100f71",
   "metadata": {},
   "outputs": [
    {
     "data": {
      "text/plain": [
       "{2, 3}"
      ]
     },
     "execution_count": 104,
     "metadata": {},
     "output_type": "execute_result"
    }
   ],
   "source": [
    "set1.symmetric_difference(set2)"
   ]
  },
  {
   "cell_type": "code",
   "execution_count": 107,
   "id": "5311c712",
   "metadata": {},
   "outputs": [],
   "source": [
    "set1.symmetric_difference_update(set2)"
   ]
  },
  {
   "cell_type": "code",
   "execution_count": 109,
   "id": "5f051ab7",
   "metadata": {},
   "outputs": [
    {
     "data": {
      "text/plain": [
       "{2, 3}"
      ]
     },
     "execution_count": 109,
     "metadata": {},
     "output_type": "execute_result"
    }
   ],
   "source": [
    "set1"
   ]
  },
  {
   "cell_type": "code",
   "execution_count": 110,
   "id": "4f293ffe",
   "metadata": {},
   "outputs": [
    {
     "data": {
      "text/plain": [
       "{2, 3, 6, 7}"
      ]
     },
     "execution_count": 110,
     "metadata": {},
     "output_type": "execute_result"
    }
   ],
   "source": [
    "set1.union(set2)"
   ]
  },
  {
   "cell_type": "code",
   "execution_count": 112,
   "id": "838e2e09",
   "metadata": {},
   "outputs": [
    {
     "data": {
      "text/plain": [
       "{2, 3}"
      ]
     },
     "execution_count": 112,
     "metadata": {},
     "output_type": "execute_result"
    }
   ],
   "source": [
    "set1"
   ]
  },
  {
   "cell_type": "code",
   "execution_count": 113,
   "id": "40405934",
   "metadata": {},
   "outputs": [],
   "source": [
    "set1.update(set2)"
   ]
  },
  {
   "cell_type": "code",
   "execution_count": 114,
   "id": "0d7600d4",
   "metadata": {},
   "outputs": [
    {
     "data": {
      "text/plain": [
       "{2, 3, 6, 7}"
      ]
     },
     "execution_count": 114,
     "metadata": {},
     "output_type": "execute_result"
    }
   ],
   "source": [
    "set1"
   ]
  },
  {
   "cell_type": "markdown",
   "id": "af483ae4",
   "metadata": {},
   "source": [
    "### Python Dictionary"
   ]
  },
  {
   "cell_type": "code",
   "execution_count": null,
   "id": "8f7f5795",
   "metadata": {},
   "outputs": [],
   "source": []
  }
 ],
 "metadata": {
  "kernelspec": {
   "display_name": "Python 3",
   "language": "python",
   "name": "python3"
  },
  "language_info": {
   "codemirror_mode": {
    "name": "ipython",
    "version": 3
   },
   "file_extension": ".py",
   "mimetype": "text/x-python",
   "name": "python",
   "nbconvert_exporter": "python",
   "pygments_lexer": "ipython3",
   "version": "3.8.8"
  }
 },
 "nbformat": 4,
 "nbformat_minor": 5
}
